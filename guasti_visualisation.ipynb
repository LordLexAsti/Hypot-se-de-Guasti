{
 "cells": [
  {
   "cell_type": "markdown",
   "id": "1bb10fe8",
   "metadata": {},
   "source": [
    "# 🧮 Visualisation de la Grille de Guasti\n",
    "Ce notebook permet de générer, afficher et analyser visuellement la grille de Guasti, afin de mieux comprendre la distribution des nombres premiers, des multiples et des motifs diagonaux."
   ]
  },
  {
   "cell_type": "code",
   "execution_count": null,
   "id": "fbba1459",
   "metadata": {},
   "outputs": [],
   "source": [
    "import numpy as np\n",
    "import matplotlib.pyplot as plt"
   ]
  },
  {
   "cell_type": "code",
   "execution_count": null,
   "id": "6a63e91b",
   "metadata": {},
   "outputs": [],
   "source": [
    "def generate_guasti_grid(rows=18, cols=26):\n",
    "    grid = np.full((rows, cols), '', dtype=object)\n",
    "    grid[0] = list(range(cols))\n",
    "    for i in range(1, rows):\n",
    "        for j in range(cols):\n",
    "            if j % i == 0:\n",
    "                grid[i, j] = j\n",
    "    return grid"
   ]
  },
  {
   "cell_type": "code",
   "execution_count": null,
   "id": "7785ef65",
   "metadata": {},
   "outputs": [],
   "source": [
    "def display_grid(grid):\n",
    "    fig, ax = plt.subplots(figsize=(14, 10))\n",
    "    for i in range(grid.shape[0]):\n",
    "        for j in range(grid.shape[1]):\n",
    "            if grid[i, j] != '':\n",
    "                ax.text(j, i, str(grid[i, j]), ha='center', va='center', fontsize=8)\n",
    "    ax.set_xticks(np.arange(grid.shape[1]))\n",
    "    ax.set_yticks(np.arange(grid.shape[0]))\n",
    "    ax.invert_yaxis()\n",
    "    plt.grid(True, linestyle='--', linewidth=0.5)\n",
    "    plt.tight_layout()\n",
    "    plt.show()"
   ]
  },
  {
   "cell_type": "code",
   "execution_count": null,
   "id": "97104df0",
   "metadata": {},
   "outputs": [],
   "source": [
    "# Génération et affichage de la grille\n",
    "grid = generate_guasti_grid()\n",
    "display_grid(grid)"
   ]
  }
 ],
 "metadata": {},
 "nbformat": 4,
 "nbformat_minor": 5
}
