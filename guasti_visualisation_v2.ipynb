{
 "cells": [
  {
   "cell_type": "markdown",
   "id": "0a26ec8f",
   "metadata": {},
   "source": [
    "# 🧮 Grille de Guasti – Visualisation enrichie\n",
    "Ce notebook vous permet de générer la grille de Guasti, de visualiser les multiples, et de mettre en évidence les **nombres premiers** avec une couleur distincte."
   ]
  },
  {
   "cell_type": "code",
   "execution_count": null,
   "id": "cc6f5605",
   "metadata": {},
   "outputs": [],
   "source": [
    "import numpy as np\n",
    "import matplotlib.pyplot as plt"
   ]
  },
  {
   "cell_type": "code",
   "execution_count": null,
   "id": "e98f1548",
   "metadata": {},
   "outputs": [],
   "source": [
    "# Fonction de génération de la grille de Guasti\n",
    "def generate_guasti_grid(rows=18, cols=26):\n",
    "    grid = np.full((rows, cols), '', dtype=object)\n",
    "    grid[0] = list(range(cols))\n",
    "    for i in range(1, rows):\n",
    "        for j in range(cols):\n",
    "            if j % i == 0:\n",
    "                grid[i, j] = j\n",
    "    return grid"
   ]
  },
  {
   "cell_type": "code",
   "execution_count": null,
   "id": "e03a9c5f",
   "metadata": {},
   "outputs": [],
   "source": [
    "# Fonction pour détecter les nombres premiers\n",
    "def is_prime(n):\n",
    "    if not isinstance(n, int) or n < 2:\n",
    "        return False\n",
    "    for i in range(2, int(n ** 0.5) + 1):\n",
    "        if n % i == 0:\n",
    "            return False\n",
    "    return True"
   ]
  },
  {
   "cell_type": "code",
   "execution_count": null,
   "id": "8b048be9",
   "metadata": {},
   "outputs": [],
   "source": [
    "# Affichage avec mise en couleur des nombres premiers\n",
    "def display_grid(grid):\n",
    "    fig, ax = plt.subplots(figsize=(14, 10))\n",
    "    for i in range(grid.shape[0]):\n",
    "        for j in range(grid.shape[1]):\n",
    "            val = grid[i, j]\n",
    "            if val != '':\n",
    "                val_int = int(val)\n",
    "                color = 'green' if is_prime(val_int) else 'black'\n",
    "                ax.text(j, i, str(val), ha='center', va='center', fontsize=8, color=color)\n",
    "    ax.set_xticks(np.arange(grid.shape[1]))\n",
    "    ax.set_yticks(np.arange(grid.shape[0]))\n",
    "    ax.invert_yaxis()\n",
    "    plt.grid(True, linestyle='--', linewidth=0.5)\n",
    "    plt.tight_layout()\n",
    "    plt.show()"
   ]
  },
  {
   "cell_type": "code",
   "execution_count": null,
   "id": "e98377e3",
   "metadata": {},
   "outputs": [],
   "source": [
    "# 🧪 Exécution\n",
    "grid = generate_guasti_grid()\n",
    "display_grid(grid)"
   ]
  }
 ],
 "metadata": {},
 "nbformat": 4,
 "nbformat_minor": 5
}
